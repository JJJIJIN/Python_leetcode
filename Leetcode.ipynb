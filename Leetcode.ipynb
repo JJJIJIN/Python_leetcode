{
 "cells": [
  {
   "cell_type": "markdown",
   "id": "202ad0a6-f34a-4b4a-9dba-f88defa2f81d",
   "metadata": {},
   "source": [
    "\n",
    "leetcode"
   ]
  },
  {
   "cell_type": "markdown",
   "id": "2e41a40e-7324-4a95-9ebe-cb8a9aaa396b",
   "metadata": {},
   "source": [
    "# Find the difference:389"
   ]
  },
  {
   "cell_type": "code",
   "execution_count": 1,
   "id": "62921064-1d35-4b53-a8ab-5163f6c5c416",
   "metadata": {},
   "outputs": [
    {
     "name": "stdout",
     "output_type": "stream",
     "text": [
      "e\n"
     ]
    }
   ],
   "source": [
    "s=\"abcd\"    \n",
    "t=\"abcde\"\n",
    "a=sorted(s)\n",
    "b=sorted(t)\n",
    "for i in range(min(len(a),len(b))):\n",
    "    if a[i] in b:\n",
    "        b.remove(a[i])\n",
    "print(''.join(b))"
   ]
  },
  {
   "cell_type": "markdown",
   "id": "34fa3a84-d869-47df-a095-92cf42cf6fc6",
   "metadata": {},
   "source": [
    "# leetcode problem num :605"
   ]
  },
  {
   "cell_type": "code",
   "execution_count": 2,
   "id": "c18a0c1f-3f43-4778-87f1-e469846eb8bb",
   "metadata": {},
   "outputs": [
    {
     "data": {
      "text/plain": [
       "True"
      ]
     },
     "execution_count": 2,
     "metadata": {},
     "output_type": "execute_result"
    }
   ],
   "source": [
    "class Solution:\n",
    "    def canPlaceFlowers(self, flowerbed: [int], n: int) -> bool:\n",
    "        if n == 0:\n",
    "            return True\n",
    "        from collections import deque\n",
    "\n",
    "        x = deque(flowerbed)\n",
    "        x.appendleft(0)\n",
    "        x.append(0)\n",
    "        for i in range(1, len(flowerbed)+1):\n",
    "            if x[i] == 0:\n",
    "                left = i - 1\n",
    "                right = i + 1\n",
    "                if x[left] == 0 and x[right] == 0:\n",
    "                    n -= 1\n",
    "                    x[i] = 1\n",
    "            if n == 0:\n",
    "                return True\n",
    "        return False\n",
    "Solution().canPlaceFlowers(flowerbed = [1,0,0,0,1], n = 1)"
   ]
  },
  {
   "cell_type": "markdown",
   "id": "af8a3e7c-a437-46a8-a341-23b97cce693e",
   "metadata": {},
   "source": [
    "# leetcode problem num :643"
   ]
  },
  {
   "cell_type": "code",
   "execution_count": 3,
   "id": "1ad69eac-ff61-4b60-8923-115541147060",
   "metadata": {},
   "outputs": [
    {
     "name": "stdout",
     "output_type": "stream",
     "text": [
      "12.75\n"
     ]
    }
   ],
   "source": [
    "nums = [1, 12, -5, -6, 50, 3]\n",
    "k = 4\n",
    "x = len(nums)-k+1\n",
    "max_avg = 0\n",
    "for i in range(x):\n",
    "    num = nums[i:k]\n",
    "    avg = sum(num)/len(num)\n",
    "    max_avg = max(max_avg,avg)\n",
    "    k += 1\n",
    "print(max_avg)"
   ]
  },
  {
   "cell_type": "markdown",
   "id": "a6c905c4-8e20-461c-8c50-554a40a7a2b0",
   "metadata": {},
   "source": [
    "# Two sum : 1"
   ]
  },
  {
   "cell_type": "code",
   "execution_count": 4,
   "id": "79fb3a83-a53b-42f6-9829-d9ccf27151d0",
   "metadata": {},
   "outputs": [
    {
     "name": "stdout",
     "output_type": "stream",
     "text": [
      "[0, 1]\n"
     ]
    }
   ],
   "source": [
    "nums = [2,7,11,15]\n",
    "target = 9\n",
    "for i in range(len(nums)):\n",
    "    for j in range(i+1,len(nums)):\n",
    "        if target==nums[i]+nums[j]:\n",
    "            print([i,j])"
   ]
  },
  {
   "cell_type": "markdown",
   "id": "e6831744-ede4-4d7a-a6a5-8ec686d17595",
   "metadata": {},
   "source": [
    "# Palindrome Number:9"
   ]
  },
  {
   "cell_type": "code",
   "execution_count": 5,
   "id": "d85abaf4-5a9d-49bb-be91-5b0bb818cb1b",
   "metadata": {},
   "outputs": [
    {
     "name": "stdout",
     "output_type": "stream",
     "text": [
      "True\n"
     ]
    }
   ],
   "source": [
    "x = 121\n",
    "if (x<0):\n",
    "    print(False)\n",
    "else:\n",
    "    if x==int(str(x)[::-1]):\n",
    "        print(\"True\")\n",
    "    else:\n",
    "        print(\"False\")"
   ]
  },
  {
   "cell_type": "markdown",
   "id": "d6fa6cc2-e0a2-49f3-abdb-9ce99d82bbc7",
   "metadata": {},
   "source": [
    "# Roman to Integer : 13"
   ]
  },
  {
   "cell_type": "code",
   "execution_count": 6,
   "id": "e524e1d3-e253-4994-b0e9-76c944efd34f",
   "metadata": {},
   "outputs": [
    {
     "data": {
      "text/plain": [
       "55"
      ]
     },
     "execution_count": 6,
     "metadata": {},
     "output_type": "execute_result"
    }
   ],
   "source": [
    "def romanToInt(s: str) -> int:\n",
    "    d={'I':1,'V':5,'X':10,'L':50,'C':100,'D':500,'M':1000}\n",
    "    val=0\n",
    "    for i in range(len(s)):\n",
    "        if i+1<len(s) and d[s[i]]<d[s[i+1]]:\n",
    "            val-=d[s[i]]\n",
    "        else:\n",
    "            val+=d[s[i]]\n",
    "    return val\n",
    "x = romanToInt(\"LIIV\")\n",
    "x"
   ]
  },
  {
   "cell_type": "markdown",
   "id": "99495e33-955b-451b-a05f-a377d0c0b86d",
   "metadata": {},
   "source": [
    "# Valid Parentheses:20"
   ]
  },
  {
   "cell_type": "code",
   "execution_count": 7,
   "id": "4dd772f7-f7d7-4705-916f-ea51d37aff45",
   "metadata": {},
   "outputs": [
    {
     "data": {
      "text/plain": [
       "True"
      ]
     },
     "execution_count": 7,
     "metadata": {},
     "output_type": "execute_result"
    }
   ],
   "source": [
    "class Solution:\n",
    "    def isValid(self, s: str) -> bool:\n",
    "        d={\")\":\"(\",\"}\":\"{\",\"]\":\"[\"}\n",
    "        x=[]\n",
    "        for i in s:\n",
    "            if i in d.values():\n",
    "                x.append(i)\n",
    "            elif x and d[i]==x[-1]:\n",
    "                x.pop()\n",
    "            else:\n",
    "                return False\n",
    "        if len(x)==0:\n",
    "            \n",
    "            return True\n",
    "        else: \n",
    "             return False\n",
    "Solution().isValid(\"()[]{}\")"
   ]
  },
  {
   "cell_type": "markdown",
   "id": "16607f32-ca9e-42fd-a05e-bf5de90ff5ec",
   "metadata": {},
   "source": [
    "# Container with most water:11"
   ]
  },
  {
   "cell_type": "code",
   "execution_count": 8,
   "id": "1c936086-38e2-44b0-8075-294650b283f5",
   "metadata": {},
   "outputs": [
    {
     "data": {
      "text/plain": [
       "49"
      ]
     },
     "execution_count": 8,
     "metadata": {},
     "output_type": "execute_result"
    }
   ],
   "source": [
    "class Solution:\n",
    "    def maxArea(self, height: [int]) -> int:\n",
    "        \n",
    "        rev = len(height)-1\n",
    "        res = []\n",
    "        i = 0\n",
    "        while i != rev:\n",
    "            if height[i]<height[rev]:\n",
    "                res.append((height[i])*(rev-i))\n",
    "                i+=1\n",
    "            else:\n",
    "                res.append((height[rev])*(rev-i))\n",
    "                rev-=1\n",
    "        return max(res)\n",
    "Solution().maxArea([1,8,6,2,5,4,8,3,7])"
   ]
  },
  {
   "cell_type": "markdown",
   "id": "172fbb09-0ef1-4b17-8eb7-81c469f0fe4f",
   "metadata": {},
   "source": [
    "# 2094. Finding 3-Digit Even Numbers\n"
   ]
  },
  {
   "cell_type": "code",
   "execution_count": 9,
   "id": "e4e3cc15-17cd-4fac-a160-2b2842e605b2",
   "metadata": {},
   "outputs": [
    {
     "data": {
      "text/plain": [
       "[102, 120, 130, 132, 210, 230, 302, 310, 312, 320]"
      ]
     },
     "execution_count": 9,
     "metadata": {},
     "output_type": "execute_result"
    }
   ],
   "source": [
    "import itertools\n",
    "\n",
    "class Solution:\n",
    "    def findEvenNumbers(self, digits: [int]) -> [int]:\n",
    "        res = set()\n",
    "        for i,j,k in itertools.permutations(digits , 3):\n",
    "            if i != 0 and k % 2 == 0:\n",
    "                res.add(100*i + 10*j + k)\n",
    "        return sorted(res)\n",
    "Solution().findEvenNumbers([2,1,3,0])"
   ]
  },
  {
   "cell_type": "markdown",
   "id": "990bebfe-be41-4510-b56d-b94cd5dc2136",
   "metadata": {},
   "source": [
    "# 1550. Three Consecutive Odds\n"
   ]
  },
  {
   "cell_type": "code",
   "execution_count": 10,
   "id": "c31dc810-feef-4a0e-8ec9-306801fb72ec",
   "metadata": {},
   "outputs": [
    {
     "data": {
      "text/plain": [
       "True"
      ]
     },
     "execution_count": 10,
     "metadata": {},
     "output_type": "execute_result"
    }
   ],
   "source": [
    "class Solution:\n",
    "    def threeConsecutiveOdds(self, arr: [int]) -> bool:\n",
    "        for i in range(len(arr) - 2):\n",
    "            if arr[i] % 2 == 1:\n",
    "                if arr[i + 1] % 2 == 1:\n",
    "                    if arr[i + 2] % 2 == 1:\n",
    "                        return True\n",
    "        return False\n",
    "Solution().threeConsecutiveOdds([1,2,34,3,4,5,7,23,12])"
   ]
  },
  {
   "cell_type": "markdown",
   "id": "3f45b17e-5293-4443-b6a2-b765afc505b7",
   "metadata": {},
   "source": [
    "# 2656. Maximum Sum With Exactly K Elements"
   ]
  },
  {
   "cell_type": "code",
   "execution_count": 11,
   "id": "2b9b9b0e-50a8-45d1-89ce-e8e5e2cec59f",
   "metadata": {},
   "outputs": [
    {
     "data": {
      "text/plain": [
       "18"
      ]
     },
     "execution_count": 11,
     "metadata": {},
     "output_type": "execute_result"
    }
   ],
   "source": [
    "class Solution:\n",
    "    def maximizeSum(self, nums: [int], k: int) -> int:\n",
    "        x = []\n",
    "        b= max(nums)\n",
    "        for i in range(k):\n",
    "            x.append(b) \n",
    "            b+=1\n",
    "        return sum(x)\n",
    "Solution().maximizeSum(nums = [1,2,3,4,5], k = 3)"
   ]
  },
  {
   "cell_type": "markdown",
   "id": "ee756ef4-1ec3-4d34-bd29-2d451354850b",
   "metadata": {},
   "source": [
    "# 303. Range Sum Query - Immutable"
   ]
  },
  {
   "cell_type": "code",
   "execution_count": 12,
   "id": "c0611e01-1fc5-4b08-a16c-a9e2a4dc5d0d",
   "metadata": {},
   "outputs": [
    {
     "data": {
      "text/plain": [
       "-2"
      ]
     },
     "execution_count": 12,
     "metadata": {},
     "output_type": "execute_result"
    }
   ],
   "source": [
    "class NumArray:\n",
    "    def __init__(self, nums: [int]):\n",
    "        self.nums = [0] * (len(nums) + 1)\n",
    "        for i in range(len(nums)):\n",
    "            self.nums[i + 1] = self.nums[i] + nums[i]\n",
    "\n",
    "    def sumRange(self, left: int, right: int) -> int:\n",
    "        return self.nums[right + 1] - self.nums[left]\n",
    "NumArray([-2, 0, 3, -5, 2, -1]).sumRange(0,4)"
   ]
  },
  {
   "cell_type": "markdown",
   "id": "60c0b02b-8d2c-4de0-9e84-6882e3649eee",
   "metadata": {},
   "source": [
    "# 1652. Defuse the Bomb"
   ]
  },
  {
   "cell_type": "code",
   "execution_count": 13,
   "id": "f3624536-d5f8-4318-81bf-f0aacef4fae0",
   "metadata": {},
   "outputs": [
    {
     "data": {
      "text/plain": [
       "[12, 10, 16, 13]"
      ]
     },
     "execution_count": 13,
     "metadata": {},
     "output_type": "execute_result"
    }
   ],
   "source": [
    "class Solution:\n",
    "    def decrypt(self, code:[int], k: int) -> [int]:\n",
    "        code1 = code*2\n",
    "    \n",
    "        p1 = 1\n",
    "        p2 = abs(k) + 1\n",
    "        res = []\n",
    "        if k == 0:\n",
    "            return [0] * len(code)\n",
    "        if k < 0:\n",
    "            x1 = code1[::-1]\n",
    "        res.append(sum(code1[p1:p2]))\n",
    "        temp = 0\n",
    "        for i in range(len(code)-1):\n",
    "            temp = res[i] - code1[p1] + code1[p2]\n",
    "            p1 += 1\n",
    "            p2 += 1\n",
    "            res.append(temp)\n",
    "        if k<0:\n",
    "            res = res[k-1:]+res[:k-1] \n",
    "        return res\n",
    "Solution().decrypt(code = [5,7,1,4], k = 3)"
   ]
  },
  {
   "cell_type": "markdown",
   "id": "1a3b6132-c5d9-455d-af4c-17380ff286be",
   "metadata": {},
   "source": [
    "# 1619. Mean of Array After Removing Some Elements\n"
   ]
  },
  {
   "cell_type": "code",
   "execution_count": 14,
   "id": "6ea8716e-f02d-49fe-b344-343025460985",
   "metadata": {},
   "outputs": [
    {
     "data": {
      "text/plain": [
       "2.0"
      ]
     },
     "execution_count": 14,
     "metadata": {},
     "output_type": "execute_result"
    }
   ],
   "source": [
    "class Solution:\n",
    "    def trimMean(self, arr: [int]) -> float:\n",
    "        import numpy\n",
    "        arr = numpy.sort(arr)\n",
    "        return arr[int(0.05 * len(arr)):int(-(0.05 * len(arr)))].mean()\n",
    "Solution().trimMean(arr = [1,2,2,2,2,2,2,2,2,2,2,2,2,2,2,2,2,2,2,3])"
   ]
  },
  {
   "cell_type": "markdown",
   "id": "0f0ed03f-8502-49a2-9e64-19b64cd31b1f",
   "metadata": {},
   "source": [
    "# 283. Move Zeroes"
   ]
  },
  {
   "cell_type": "code",
   "execution_count": 15,
   "id": "2cbb839b-7320-4f83-8754-d1f175f35e94",
   "metadata": {},
   "outputs": [
    {
     "data": {
      "text/plain": [
       "[1, 3, 12, 0, 0]"
      ]
     },
     "execution_count": 15,
     "metadata": {},
     "output_type": "execute_result"
    }
   ],
   "source": [
    "class Solution:\n",
    "    def moveZeroes(self, nums: [int]) -> None:\n",
    "        \n",
    "        for i in nums:\n",
    "            if i==0:\n",
    "                nums.remove(i)\n",
    "                nums.append(i)\n",
    "        return nums\n",
    "                \n",
    "Solution().moveZeroes(nums = [0,1,0,3,12])"
   ]
  },
  {
   "cell_type": "markdown",
   "id": "92306a73-c572-4178-822f-55a32993e466",
   "metadata": {},
   "source": [
    "# 1800. Maximum Ascending Subarray Sum"
   ]
  },
  {
   "cell_type": "code",
   "execution_count": 16,
   "id": "4de1ea0b-c76e-4b57-bfc1-6b5ceff15842",
   "metadata": {},
   "outputs": [
    {
     "data": {
      "text/plain": [
       "65"
      ]
     },
     "execution_count": 16,
     "metadata": {},
     "output_type": "execute_result"
    }
   ],
   "source": [
    "class Solution:\n",
    "    def maxAscendingSum(self, nums: [int]) -> int:\n",
    "        sum1 = nums[0]\n",
    "        res = [nums[0]]\n",
    "        for i in range(1,len(nums)):\n",
    "            if nums[i]>nums[i-1]:\n",
    "                sum1 += nums[i]\n",
    "                res.append(sum1)\n",
    "            else:\n",
    "                sum1 = nums[i]\n",
    "        return max(res)\n",
    "Solution().maxAscendingSum(nums=[10,20,30,5,10,50])"
   ]
  },
  {
   "cell_type": "markdown",
   "id": "da6acf4a-2d91-4767-ba12-eb60ad55d3ab",
   "metadata": {},
   "source": [
    "# 2475. Number of Unequal Triplets in Array"
   ]
  },
  {
   "cell_type": "code",
   "execution_count": 17,
   "id": "d9a6678f-0ed7-41d1-a47c-1ccbfd7fca3c",
   "metadata": {},
   "outputs": [
    {
     "data": {
      "text/plain": [
       "3"
      ]
     },
     "execution_count": 17,
     "metadata": {},
     "output_type": "execute_result"
    }
   ],
   "source": [
    "class Solution:\n",
    "    def unequalTriplets(self, nums: [int]) -> int:\n",
    "        import itertools\n",
    "        \n",
    "        count = 0\n",
    "        for i,j,k in itertools.combinations(nums,3):\n",
    "            if i!=j and j!=k and k!=i:\n",
    "                count+=1\n",
    "        return count\n",
    "Solution().unequalTriplets(nums = [4,4,2,4,3])"
   ]
  },
  {
   "cell_type": "markdown",
   "id": "bbd04e3e-94b3-41ff-9f79-f86ff1c4ed36",
   "metadata": {},
   "source": [
    "# 999. Available Captures for Rook"
   ]
  },
  {
   "cell_type": "code",
   "execution_count": 54,
   "id": "65a1c772-ce4a-45aa-82d8-1c7b9b1742a3",
   "metadata": {},
   "outputs": [
    {
     "data": {
      "text/plain": [
       "3"
      ]
     },
     "execution_count": 54,
     "metadata": {},
     "output_type": "execute_result"
    }
   ],
   "source": [
    "import numpy as np\n",
    "class Solution:\n",
    "    def numRookCaptures(self, board: [[str]]) -> int:\n",
    "        arr = np.array(board)\n",
    "        x1 = np.where(arr == 'R')[0][0]\n",
    "        x2 = np.where(arr == 'R')[1][0]\n",
    "        x1_ = arr[x1:x1+1,:].reshape(1,-1)[0]\n",
    "        x2_ = arr[:,x2:x2+1].reshape(1,-1)[0]\n",
    "        def array_name(arr,idx):\n",
    "            cnt = 0\n",
    "            for i in arr[idx+1:]:\n",
    "                if i == 'B':\n",
    "                    break\n",
    "                elif i == 'p':\n",
    "                    cnt += 1\n",
    "                    break\n",
    "            for j in reversed(arr[:idx]):\n",
    "                if j == 'B':\n",
    "                    break\n",
    "                elif j == 'p':\n",
    "                    cnt += 1\n",
    "                    break\n",
    "            return cnt\n",
    "        return array_name(x1_,x2) + array_name(x2_,x1)\n",
    "Solution().numRookCaptures(board = [[\".\",\".\",\".\",\".\",\".\",\".\",\".\",\".\"],[\".\",\".\",\".\",\"p\",\".\",\".\",\".\",\".\"],[\".\",\".\",\".\",\"R\",\".\",\".\",\".\",\"p\"],[\".\",\".\",\".\",\".\",\".\",\".\",\".\",\".\"],[\".\",\".\",\".\",\".\",\".\",\".\",\".\",\".\"],[\".\",\".\",\".\",\"p\",\".\",\".\",\".\",\".\"],[\".\",\".\",\".\",\".\",\".\",\".\",\".\",\".\"],[\".\",\".\",\".\",\".\",\".\",\".\",\".\",\".\"]])"
   ]
  },
  {
   "cell_type": "markdown",
   "id": "b43e8522-92ff-45a3-9476-138df2e31c78",
   "metadata": {},
   "source": [
    "# 561. Array Partition\n"
   ]
  },
  {
   "cell_type": "code",
   "execution_count": 67,
   "id": "43ab291e-1e2a-4fd7-a08c-5ab5a7fe5c9a",
   "metadata": {},
   "outputs": [
    {
     "data": {
      "text/plain": [
       "4"
      ]
     },
     "execution_count": 67,
     "metadata": {},
     "output_type": "execute_result"
    }
   ],
   "source": [
    "class Solution:\n",
    "    def arrayPairSum(self, nums: [int]) -> int:\n",
    "        nums = sorted(nums)\n",
    "        cnt = 0\n",
    "        for i in nums[::2]:\n",
    "            cnt += i\n",
    "        return cnt\n",
    "Solution().arrayPairSum(nums = [1,4,3,2])"
   ]
  },
  {
   "cell_type": "markdown",
   "id": "654f8659-1cc1-4eeb-bbd8-c8813c809588",
   "metadata": {},
   "source": [
    "# 232. Implement Queue using Stacks"
   ]
  },
  {
   "cell_type": "code",
   "execution_count": 85,
   "id": "140c7c1c-483a-4c94-b60f-5f35f3120098",
   "metadata": {},
   "outputs": [],
   "source": [
    "class MyQueue:\n",
    "\n",
    "    def __init__(self):\n",
    "        self.lst = []\n",
    "\n",
    "    def push(self, x: int) -> None:\n",
    "        self.lst.append(x)\n",
    "\n",
    "    def pop(self) -> int:\n",
    "        return self.lst.pop(0)\n",
    "\n",
    "    def peek(self) -> int:\n",
    "        return self.lst[0]\n",
    "\n",
    "    def empty(self) -> bool:\n",
    "        if len(self.lst) == 0:\n",
    "            return True\n",
    "        else:\n",
    "            return False"
   ]
  },
  {
   "cell_type": "markdown",
   "id": "d581de33-718c-47ae-83d6-15a8ae7143ea",
   "metadata": {},
   "source": [
    "# 2180. Count Integers With Even Digit Sum"
   ]
  },
  {
   "cell_type": "code",
   "execution_count": 6,
   "id": "03c9126e-60d1-49d5-b1d3-de96ae5978d1",
   "metadata": {},
   "outputs": [
    {
     "name": "stdout",
     "output_type": "stream",
     "text": [
      "39\n"
     ]
    }
   ],
   "source": [
    "class Solution:\n",
    "    def countEven(self, num: int) -> int:\n",
    "        cnt = 0\n",
    "        for i in range(1,num+1):\n",
    "            d = 0\n",
    "            for c in str(i):\n",
    "                d += int(c)\n",
    "            if d%2==0: \n",
    "                cnt += 1  \n",
    "        return cnt\n",
    "Solution().countEven"
   ]
  },
  {
   "cell_type": "markdown",
   "id": "85abe462-1c8a-4e4a-8d77-39fe30507278",
   "metadata": {},
   "source": [
    "# 724. Find Pivot Index"
   ]
  },
  {
   "cell_type": "code",
   "execution_count": 13,
   "id": "e08a2b0f-32cd-418c-a41e-174b7e7ded02",
   "metadata": {},
   "outputs": [
    {
     "data": {
      "text/plain": [
       "3"
      ]
     },
     "execution_count": 13,
     "metadata": {},
     "output_type": "execute_result"
    }
   ],
   "source": [
    "class Solution:\n",
    "    def pivotIndex(self, nums: [int]) -> int:\n",
    "        for i in range(len(nums)):\n",
    "            if sum(nums[:i]) == sum(nums[i+1:]):\n",
    "                return i\n",
    "        return -1 \n",
    "Solution().pivotIndex(nums = [1,7,3,6,5,6])"
   ]
  },
  {
   "cell_type": "markdown",
   "id": "2bf885ff-1ebe-44ba-8b7d-1d1ae0944810",
   "metadata": {},
   "source": [
    "# 2138. Divide a String Into Groups of Size k"
   ]
  },
  {
   "cell_type": "code",
   "execution_count": 29,
   "id": "06703b75-4302-45e8-a32f-1f19d78b92d2",
   "metadata": {},
   "outputs": [
    {
     "ename": "NameError",
     "evalue": "name 'List' is not defined",
     "output_type": "error",
     "traceback": [
      "\u001b[1;31m---------------------------------------------------------------------------\u001b[0m",
      "\u001b[1;31mNameError\u001b[0m                                 Traceback (most recent call last)",
      "Input \u001b[1;32mIn [29]\u001b[0m, in \u001b[0;36m<cell line: 1>\u001b[1;34m()\u001b[0m\n\u001b[1;32m----> 1\u001b[0m \u001b[38;5;28;01mclass\u001b[39;00m \u001b[38;5;21;01mSolution\u001b[39;00m:\n\u001b[0;32m      2\u001b[0m     \u001b[38;5;28;01mdef\u001b[39;00m \u001b[38;5;21mdivideString\u001b[39m(\u001b[38;5;28mself\u001b[39m, s: \u001b[38;5;28mstr\u001b[39m, k: \u001b[38;5;28mint\u001b[39m, fill: \u001b[38;5;28mstr\u001b[39m) \u001b[38;5;241m-\u001b[39m\u001b[38;5;241m>\u001b[39m List[\u001b[38;5;28mstr\u001b[39m]:\n\u001b[0;32m      3\u001b[0m         x \u001b[38;5;241m=\u001b[39m []\n",
      "Input \u001b[1;32mIn [29]\u001b[0m, in \u001b[0;36mSolution\u001b[1;34m()\u001b[0m\n\u001b[0;32m      1\u001b[0m \u001b[38;5;28;01mclass\u001b[39;00m \u001b[38;5;21;01mSolution\u001b[39;00m:\n\u001b[1;32m----> 2\u001b[0m     \u001b[38;5;28;01mdef\u001b[39;00m \u001b[38;5;21mdivideString\u001b[39m(\u001b[38;5;28mself\u001b[39m, s: \u001b[38;5;28mstr\u001b[39m, k: \u001b[38;5;28mint\u001b[39m, fill: \u001b[38;5;28mstr\u001b[39m) \u001b[38;5;241m-\u001b[39m\u001b[38;5;241m>\u001b[39m \u001b[43mList\u001b[49m[\u001b[38;5;28mstr\u001b[39m]:\n\u001b[0;32m      3\u001b[0m         x \u001b[38;5;241m=\u001b[39m []\n\u001b[0;32m      4\u001b[0m         \u001b[38;5;28;01mfor\u001b[39;00m i \u001b[38;5;129;01min\u001b[39;00m \u001b[38;5;28mrange\u001b[39m(\u001b[38;5;241m0\u001b[39m,\u001b[38;5;28mlen\u001b[39m(s),k):\n",
      "\u001b[1;31mNameError\u001b[0m: name 'List' is not defined"
     ]
    }
   ],
   "source": [
    "class Solution:\n",
    "    def divideString(self, s: str, k: int, fill: str) -> [str]:\n",
    "        x = []\n",
    "        for i in range(0,len(s),k):\n",
    "            x.append(s[i:i+k])\n",
    "        if len(x[-1]) != k:\n",
    "            x[-1 ] = x[-1] + fill * (k - len(x[-1])) \n",
    "        return x\n",
    "Solution().divideString(s = \"abcdefghi\", k = 3, fill = \"x\")"
   ]
  },
  {
   "cell_type": "code",
   "execution_count": null,
   "id": "0ad727c1-f1a7-4e6a-a559-6694d671c3f5",
   "metadata": {},
   "outputs": [],
   "source": []
  }
 ],
 "metadata": {
  "kernelspec": {
   "display_name": "Python 3 (ipykernel)",
   "language": "python",
   "name": "python3"
  },
  "language_info": {
   "codemirror_mode": {
    "name": "ipython",
    "version": 3
   },
   "file_extension": ".py",
   "mimetype": "text/x-python",
   "name": "python",
   "nbconvert_exporter": "python",
   "pygments_lexer": "ipython3",
   "version": "3.10.4"
  }
 },
 "nbformat": 4,
 "nbformat_minor": 5
}
