{
 "cells": [
  {
   "cell_type": "markdown",
   "id": "202ad0a6-f34a-4b4a-9dba-f88defa2f81d",
   "metadata": {},
   "source": [
    "\n",
    "leetcode"
   ]
  },
  {
   "cell_type": "markdown",
   "id": "2e41a40e-7324-4a95-9ebe-cb8a9aaa396b",
   "metadata": {},
   "source": [
    "Find the difference:389"
   ]
  },
  {
   "cell_type": "code",
   "execution_count": 1,
   "id": "62921064-1d35-4b53-a8ab-5163f6c5c416",
   "metadata": {},
   "outputs": [
    {
     "name": "stdout",
     "output_type": "stream",
     "text": [
      "e\n"
     ]
    }
   ],
   "source": [
    "s=\"abcd\"    \n",
    "t=\"abcde\"\n",
    "a=sorted(s)\n",
    "b=sorted(t)\n",
    "for i in range(min(len(a),len(b))):\n",
    "    if a[i] in b:\n",
    "        b.remove(a[i])\n",
    "print(''.join(b))"
   ]
  },
  {
   "cell_type": "markdown",
   "id": "34fa3a84-d869-47df-a095-92cf42cf6fc6",
   "metadata": {},
   "source": [
    "leetcode problem num :605"
   ]
  },
  {
   "cell_type": "code",
   "execution_count": 2,
   "id": "c18a0c1f-3f43-4778-87f1-e469846eb8bb",
   "metadata": {},
   "outputs": [
    {
     "data": {
      "text/plain": [
       "True"
      ]
     },
     "execution_count": 2,
     "metadata": {},
     "output_type": "execute_result"
    }
   ],
   "source": [
    "class Solution:\n",
    "    def canPlaceFlowers(self, flowerbed: [int], n: int) -> bool:\n",
    "        if n == 0:\n",
    "            return True\n",
    "        from collections import deque\n",
    "\n",
    "        x = deque(flowerbed)\n",
    "        x.appendleft(0)\n",
    "        x.append(0)\n",
    "        for i in range(1, len(flowerbed)+1):\n",
    "            if x[i] == 0:\n",
    "                left = i - 1\n",
    "                right = i + 1\n",
    "                if x[left] == 0 and x[right] == 0:\n",
    "                    n -= 1\n",
    "                    x[i] = 1\n",
    "            if n == 0:\n",
    "                return True\n",
    "        return False\n",
    "Solution().canPlaceFlowers(flowerbed = [1,0,0,0,1], n = 1)"
   ]
  },
  {
   "cell_type": "markdown",
   "id": "af8a3e7c-a437-46a8-a341-23b97cce693e",
   "metadata": {},
   "source": [
    "leetcode problem num :643"
   ]
  },
  {
   "cell_type": "code",
   "execution_count": 3,
   "id": "1ad69eac-ff61-4b60-8923-115541147060",
   "metadata": {},
   "outputs": [
    {
     "name": "stdout",
     "output_type": "stream",
     "text": [
      "12.75\n"
     ]
    }
   ],
   "source": [
    "nums = [1, 12, -5, -6, 50, 3]\n",
    "k = 4\n",
    "x = len(nums)-k+1\n",
    "max_avg = 0\n",
    "for i in range(x):\n",
    "    num = nums[i:k]\n",
    "    avg = sum(num)/len(num)\n",
    "    max_avg = max(max_avg,avg)\n",
    "    k += 1\n",
    "print(max_avg)"
   ]
  },
  {
   "cell_type": "markdown",
   "id": "a6c905c4-8e20-461c-8c50-554a40a7a2b0",
   "metadata": {},
   "source": [
    "Two sum : 1"
   ]
  },
  {
   "cell_type": "code",
   "execution_count": 4,
   "id": "79fb3a83-a53b-42f6-9829-d9ccf27151d0",
   "metadata": {},
   "outputs": [
    {
     "name": "stdout",
     "output_type": "stream",
     "text": [
      "[0, 1]\n"
     ]
    }
   ],
   "source": [
    "nums = [2,7,11,15]\n",
    "target = 9\n",
    "for i in range(len(nums)):\n",
    "    for j in range(i+1,len(nums)):\n",
    "        if target==nums[i]+nums[j]:\n",
    "            print([i,j])"
   ]
  },
  {
   "cell_type": "markdown",
   "id": "e6831744-ede4-4d7a-a6a5-8ec686d17595",
   "metadata": {},
   "source": [
    "Palindrome Number:9"
   ]
  },
  {
   "cell_type": "code",
   "execution_count": 5,
   "id": "d85abaf4-5a9d-49bb-be91-5b0bb818cb1b",
   "metadata": {},
   "outputs": [
    {
     "name": "stdout",
     "output_type": "stream",
     "text": [
      "True\n"
     ]
    }
   ],
   "source": [
    "x = 121\n",
    "if (x<0):\n",
    "    print(False)\n",
    "else:\n",
    "    if x==int(str(x)[::-1]):\n",
    "        print(\"True\")\n",
    "    else:\n",
    "        print(\"False\")"
   ]
  },
  {
   "cell_type": "markdown",
   "id": "d6fa6cc2-e0a2-49f3-abdb-9ce99d82bbc7",
   "metadata": {},
   "source": [
    "Roman to Integer : 13"
   ]
  },
  {
   "cell_type": "code",
   "execution_count": 6,
   "id": "e524e1d3-e253-4994-b0e9-76c944efd34f",
   "metadata": {},
   "outputs": [
    {
     "data": {
      "text/plain": [
       "55"
      ]
     },
     "execution_count": 6,
     "metadata": {},
     "output_type": "execute_result"
    }
   ],
   "source": [
    "def romanToInt(s: str) -> int:\n",
    "    d={'I':1,'V':5,'X':10,'L':50,'C':100,'D':500,'M':1000}\n",
    "    val=0\n",
    "    for i in range(len(s)):\n",
    "        if i+1<len(s) and d[s[i]]<d[s[i+1]]:\n",
    "            val-=d[s[i]]\n",
    "        else:\n",
    "            val+=d[s[i]]\n",
    "    return val\n",
    "x = romanToInt(\"LIIV\")\n",
    "x"
   ]
  },
  {
   "cell_type": "markdown",
   "id": "99495e33-955b-451b-a05f-a377d0c0b86d",
   "metadata": {},
   "source": [
    "Valid Parentheses:20"
   ]
  },
  {
   "cell_type": "code",
   "execution_count": 7,
   "id": "4dd772f7-f7d7-4705-916f-ea51d37aff45",
   "metadata": {},
   "outputs": [
    {
     "data": {
      "text/plain": [
       "True"
      ]
     },
     "execution_count": 7,
     "metadata": {},
     "output_type": "execute_result"
    }
   ],
   "source": [
    "class Solution:\n",
    "    def isValid(self, s: str) -> bool:\n",
    "        d={\")\":\"(\",\"}\":\"{\",\"]\":\"[\"}\n",
    "        x=[]\n",
    "        for i in s:\n",
    "            if i in d.values():\n",
    "                x.append(i)\n",
    "            elif x and d[i]==x[-1]:\n",
    "                x.pop()\n",
    "            else:\n",
    "                return False\n",
    "        if len(x)==0:\n",
    "            \n",
    "            return True\n",
    "        else: \n",
    "             return False\n",
    "Solution().isValid(\"()[]{}\")"
   ]
  },
  {
   "cell_type": "markdown",
   "id": "16607f32-ca9e-42fd-a05e-bf5de90ff5ec",
   "metadata": {},
   "source": [
    "Container with most water:11"
   ]
  },
  {
   "cell_type": "code",
   "execution_count": 1,
   "id": "1c936086-38e2-44b0-8075-294650b283f5",
   "metadata": {},
   "outputs": [
    {
     "ename": "NameError",
     "evalue": "name 'List' is not defined",
     "output_type": "error",
     "traceback": [
      "\u001b[1;31m---------------------------------------------------------------------------\u001b[0m",
      "\u001b[1;31mNameError\u001b[0m                                 Traceback (most recent call last)",
      "Input \u001b[1;32mIn [1]\u001b[0m, in \u001b[0;36m<cell line: 1>\u001b[1;34m()\u001b[0m\n\u001b[1;32m----> 1\u001b[0m \u001b[38;5;28;01mclass\u001b[39;00m \u001b[38;5;21;01mSolution\u001b[39;00m:\n\u001b[0;32m      2\u001b[0m     \u001b[38;5;28;01mdef\u001b[39;00m \u001b[38;5;21mmaxArea\u001b[39m(\u001b[38;5;28mself\u001b[39m, height: List[\u001b[38;5;28mint\u001b[39m]) \u001b[38;5;241m-\u001b[39m\u001b[38;5;241m>\u001b[39m \u001b[38;5;28mint\u001b[39m:\n\u001b[0;32m      4\u001b[0m         rev \u001b[38;5;241m=\u001b[39m \u001b[38;5;28mlen\u001b[39m(height)\u001b[38;5;241m-\u001b[39m\u001b[38;5;241m1\u001b[39m\n",
      "Input \u001b[1;32mIn [1]\u001b[0m, in \u001b[0;36mSolution\u001b[1;34m()\u001b[0m\n\u001b[0;32m      1\u001b[0m \u001b[38;5;28;01mclass\u001b[39;00m \u001b[38;5;21;01mSolution\u001b[39;00m:\n\u001b[1;32m----> 2\u001b[0m     \u001b[38;5;28;01mdef\u001b[39;00m \u001b[38;5;21mmaxArea\u001b[39m(\u001b[38;5;28mself\u001b[39m, height: \u001b[43mList\u001b[49m[\u001b[38;5;28mint\u001b[39m]) \u001b[38;5;241m-\u001b[39m\u001b[38;5;241m>\u001b[39m \u001b[38;5;28mint\u001b[39m:\n\u001b[0;32m      4\u001b[0m         rev \u001b[38;5;241m=\u001b[39m \u001b[38;5;28mlen\u001b[39m(height)\u001b[38;5;241m-\u001b[39m\u001b[38;5;241m1\u001b[39m\n\u001b[0;32m      5\u001b[0m         res \u001b[38;5;241m=\u001b[39m []\n",
      "\u001b[1;31mNameError\u001b[0m: name 'List' is not defined"
     ]
    }
   ],
   "source": [
    "class Solution:\n",
    "    def maxArea(self, height: List[int]) -> int:\n",
    "        \n",
    "        rev = len(height)-1\n",
    "        res = []\n",
    "        i = 0\n",
    "        while i != rev:\n",
    "            if height[i]<height[rev]:\n",
    "                res.append((height[i])*(rev-i))\n",
    "                i+=1\n",
    "            else:\n",
    "                res.append((height[rev])*(rev-i))\n",
    "                rev-=1\n",
    "        return max(res)\n",
    "Solution().maxArea([1,8,6,2,5,4,8,3,7])"
   ]
  },
  {
   "cell_type": "code",
   "execution_count": null,
   "id": "8078b8f9-439a-4c0b-87b9-6bd0f3bf1ab3",
   "metadata": {},
   "outputs": [],
   "source": []
  }
 ],
 "metadata": {
  "kernelspec": {
   "display_name": "Python 3 (ipykernel)",
   "language": "python",
   "name": "python3"
  },
  "language_info": {
   "codemirror_mode": {
    "name": "ipython",
    "version": 3
   },
   "file_extension": ".py",
   "mimetype": "text/x-python",
   "name": "python",
   "nbconvert_exporter": "python",
   "pygments_lexer": "ipython3",
   "version": "3.10.4"
  }
 },
 "nbformat": 4,
 "nbformat_minor": 5
}
